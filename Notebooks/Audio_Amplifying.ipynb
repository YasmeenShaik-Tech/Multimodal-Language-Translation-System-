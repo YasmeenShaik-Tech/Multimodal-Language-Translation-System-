{
  "nbformat": 4,
  "nbformat_minor": 0,
  "metadata": {
    "colab": {
      "provenance": []
    },
    "kernelspec": {
      "name": "python3",
      "display_name": "Python 3"
    },
    "language_info": {
      "name": "python"
    }
  },
  "cells": [
    {
      "cell_type": "markdown",
      "source": [
        "#**Amplified Audio Results**"
      ],
      "metadata": {
        "id": "Irl25AvT5jmy"
      }
    },
    {
      "cell_type": "markdown",
      "source": [
        "**LUFS (Loudness Units Full Scale)**"
      ],
      "metadata": {
        "id": "jmzhrd_ouaoM"
      }
    },
    {
      "cell_type": "code",
      "source": [
        "pip install pyloudnorm\n"
      ],
      "metadata": {
        "id": "ECsMiIOm315q",
        "colab": {
          "base_uri": "https://localhost:8080/"
        },
        "collapsed": true,
        "outputId": "555db609-dcf5-47bc-c853-ec81188fd34c"
      },
      "execution_count": null,
      "outputs": [
        {
          "output_type": "stream",
          "name": "stdout",
          "text": [
            "Collecting pyloudnorm\n",
            "  Downloading pyloudnorm-0.1.1-py3-none-any.whl.metadata (5.6 kB)\n",
            "Requirement already satisfied: scipy>=1.0.1 in /usr/local/lib/python3.11/dist-packages (from pyloudnorm) (1.15.2)\n",
            "Requirement already satisfied: numpy>=1.14.2 in /usr/local/lib/python3.11/dist-packages (from pyloudnorm) (2.0.2)\n",
            "Requirement already satisfied: future>=0.16.0 in /usr/local/lib/python3.11/dist-packages (from pyloudnorm) (1.0.0)\n",
            "Downloading pyloudnorm-0.1.1-py3-none-any.whl (9.6 kB)\n",
            "Installing collected packages: pyloudnorm\n",
            "Successfully installed pyloudnorm-0.1.1\n"
          ]
        }
      ]
    },
    {
      "cell_type": "code",
      "source": [
        "import pyloudnorm as pyln\n",
        "import soundfile as sf\n",
        "\n",
        "def calculate_lufs(audio_path):\n",
        "    data, rate = sf.read(audio_path)\n",
        "    meter = pyln.Meter(rate)  # Create LUFS meter\n",
        "    loudness = meter.integrated_loudness(data)\n",
        "    return loudness\n",
        "\n",
        "original_lufs = calculate_lufs('/content/telugu_audio_input2.wav')\n",
        "amplified_lufs = calculate_lufs('/content/tel_output.wav')\n",
        "\n",
        "print(f\"Original Loudness (LUFS): {original_lufs:.2f}\")\n",
        "print(f\"Amplified Loudness (LUFS): {amplified_lufs:.2f}\")\n"
      ],
      "metadata": {
        "colab": {
          "base_uri": "https://localhost:8080/"
        },
        "id": "JsheM5N-3XVf",
        "outputId": "9949dbb8-0550-460f-9bfe-42625b3ffa2e"
      },
      "execution_count": null,
      "outputs": [
        {
          "output_type": "stream",
          "name": "stdout",
          "text": [
            "Original Loudness (LUFS): -25.39\n",
            "Amplified Loudness (LUFS): -19.49\n"
          ]
        }
      ]
    },
    {
      "cell_type": "markdown",
      "source": [
        "**Peak Amplitude**"
      ],
      "metadata": {
        "id": "AWCYq-TO4Ng5"
      }
    },
    {
      "cell_type": "code",
      "source": [
        "def calculate_peak(audio_path):\n",
        "    y, sr = librosa.load(audio_path, sr=None)\n",
        "    peak = np.max(np.abs(y))\n",
        "    return peak\n",
        "\n",
        "original_peak = calculate_peak('/content/telugu_audio_input2.wav')\n",
        "amplified_peak = calculate_peak('/content/tel_output.wav')\n",
        "\n",
        "print(f\"Original Peak Amplitude: {original_peak:.5f}\")\n",
        "print(f\"Amplified Peak Amplitude: {amplified_peak:.5f}\")\n"
      ],
      "metadata": {
        "colab": {
          "base_uri": "https://localhost:8080/"
        },
        "id": "PHNE19Q-3bBN",
        "outputId": "451f25dd-ded7-4be5-869d-2aeebe14d438"
      },
      "execution_count": null,
      "outputs": [
        {
          "output_type": "stream",
          "name": "stdout",
          "text": [
            "Original Peak Amplitude: 0.30124\n",
            "Amplified Peak Amplitude: 0.59427\n"
          ]
        }
      ]
    },
    {
      "cell_type": "markdown",
      "source": [
        "**Root Mean Square (RMS) Amplitude**"
      ],
      "metadata": {
        "id": "5mGiAwey4dZ8"
      }
    },
    {
      "cell_type": "code",
      "source": [
        "import librosa\n",
        "import numpy as np\n",
        "\n",
        "def calculate_rms(audio_path):\n",
        "    y, sr = librosa.load(audio_path, sr=None)\n",
        "    rms = np.sqrt(np.mean(y**2))\n",
        "    return rms\n",
        "\n",
        "original_rms = calculate_rms('/content/telugu_audio_input2.wav')\n",
        "amplified_rms = calculate_rms('/content/tel_output.wav')\n",
        "\n",
        "print(f\"Original RMS: {original_rms:.5f}\")\n",
        "print(f\"Amplified RMS: {amplified_rms:.5f}\")\n"
      ],
      "metadata": {
        "colab": {
          "base_uri": "https://localhost:8080/"
        },
        "id": "7ztgxJFI4Xeq",
        "outputId": "5fe39cae-94ec-4141-d533-7b0b553e6007"
      },
      "execution_count": null,
      "outputs": [
        {
          "output_type": "stream",
          "name": "stdout",
          "text": [
            "Original RMS: 0.05071\n",
            "Amplified RMS: 0.10003\n"
          ]
        }
      ]
    }
  ]
}